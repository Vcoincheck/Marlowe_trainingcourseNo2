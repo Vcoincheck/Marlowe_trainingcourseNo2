{
 "cells": [
  {
   "cell_type": "markdown",
   "id": "a15468d1-d700-42c7-b146-2f58bd024959",
   "metadata": {},
   "source": [
    "## Thực hiện hợp đồng hoán đổi token trên mạng preprod"
   ]
  },
  {
   "cell_type": "markdown",
   "id": "0a378255-f04b-4703-bf0b-d420b1bf9531",
   "metadata": {},
   "source": [
    "### Bước 0: Thiết kế hợp đồng trên Marlowe Playground"
   ]
  },
  {
   "cell_type": "markdown",
   "id": "a4c89324-d8bb-4146-9c95-106f5304ddbf",
   "metadata": {},
   "source": [
    "[Hợp đồng hoán đổi token giữa người mua và người bán](https://playground.marlowe-lang.org/#/importContract?marlowe-view=editor&contract=N4Ig7gFgpgdiBcBtUAXad6krByRp03wHsBrQ1M2AfRgEMBbKBEEAGhAGMBXAJ19icAntQDOQhgCNiAGxYgAvhxTEEoAA51eKIWpC9ZUaivIYQAOQDm3YgEsAQnTgKl%2BdHpMUSp2o2bwQAHEAeQAZABF2Lj4BGGExCWk5ALoAZgAGAHYAJjpMgBZOABN89M5UqAA2coBGAFZyyslsyoBOVrqAM1TOdKKa1JrWzIAOTvzOyUy6SUqoGuzJVrps9MVlVSJNbV0iAxkjTzMrG1sAWW46RVcCM04ZYlFmDk1d0E5iGFEUJxRqbcYLAAysRQjYYJYACpUZwcToGBjUOicD7cGAoPT7Q4wlgnOyOZyuV56D5fH7o-5aQEBEFgz6WULEABuUBkyOYrnhxERyNR6MxhmMOICePOl2uHE4dCeem2OgFByFplx1nxTnWIGInSVXiOviYLBCESiPH4ghE4ikshYaSyuQKxVK5SqtQaqSaLXaXR6fQGQ1G40m01m80Wy1WGts6OISJRxDRGL2gqOKtOBI1RSg6kethQohJn2%2Bv0pvGpIFp4KhOJcCgAuspbEx439SSgo5c258WPdHs98I2oM2PAOS2XsgA6SEQOwACScooJAGEINwhLBoaYAGp0Ygz4jqcL0iVcaX%2BDRaeVJxUpkWqsVXVxanUYSg%2BegGgImmLmhJW5KsVwoxUWM%2BUTUAsWfVM7AuB8OEzbNRFzfMiFJIsKQBBhgVBStGRZNlOA5Fx637JtuBbT42xgDtbC7AIexlBtSLAkijAwlgaknadbDnGBRRg5dV1gABBcIhO3Xd90PCFriAA)"
   ]
  },
  {
   "cell_type": "markdown",
   "id": "2eec47c8-efd5-4eb0-92ac-219239cc599a",
   "metadata": {},
   "source": [
    "### Bước 1: Tạo ví cho các bên liên quan"
   ]
  },
  {
   "cell_type": "markdown",
   "id": "bc02c71f-f6bc-4987-ba01-3cb70f3d800f",
   "metadata": {},
   "source": [
    "**Tạo thư mục tên là deploy-marlowe-contract để lưu các files liên quan**"
   ]
  },
  {
   "cell_type": "code",
   "execution_count": null,
   "id": "5b11b527-bfc2-43bd-9f72-6a281b5c9abf",
   "metadata": {},
   "outputs": [],
   "source": [
    "mkdir -p ~/notebooks/swap-token-contract"
   ]
  },
  {
   "cell_type": "code",
   "execution_count": null,
   "id": "bd36e7a4-6001-40de-bcae-0cd423c8db01",
   "metadata": {},
   "outputs": [],
   "source": [
    "cd ~/notebooks/swap-token-contract/"
   ]
  },
  {
   "cell_type": "code",
   "execution_count": null,
   "id": "f22c2a45-6401-40c4-b1ae-3f57f272e791",
   "metadata": {},
   "outputs": [],
   "source": [
    "pwd"
   ]
  },
  {
   "cell_type": "markdown",
   "id": "da4fdc4b-eadb-44be-b8e6-002d4ce5cfe9",
   "metadata": {},
   "source": [
    "**Tạo signing key và verification key cho các bên tham gia vào hợp đồng**"
   ]
  },
  {
   "cell_type": "code",
   "execution_count": null,
   "id": "1a6adb6e-9885-485e-ab09-fcd6a521bffe",
   "metadata": {},
   "outputs": [],
   "source": [
    "cardano-cli address key-gen \\\n",
    "--verification-key-file nguoi-mua.vkey \\\n",
    "--signing-key-file nguoi-mua.skey\n",
    "\n",
    "cardano-cli address key-gen \\\n",
    "--verification-key-file nguoi-ban.vkey \\\n",
    "--signing-key-file nguoi-ban.skey\n",
    "\n",
    "ls"
   ]
  },
  {
   "cell_type": "markdown",
   "id": "0de1a0f5-ea14-4373-9dc3-dae776ca5333",
   "metadata": {},
   "source": [
    "**Tạo địa chỉ ví từ verification key**"
   ]
  },
  {
   "cell_type": "code",
   "execution_count": null,
   "id": "a2433f71-5e45-4450-a467-40c8d67e615e",
   "metadata": {},
   "outputs": [],
   "source": [
    "cardano-cli address build \\\n",
    "--payment-verification-key-file nguoi-mua.vkey \\\n",
    "--testnet-magic 1 \\\n",
    "--out-file nguoi-mua.addr\n",
    "\n",
    "cardano-cli address build \\\n",
    "--payment-verification-key-file nguoi-ban.vkey \\\n",
    "--testnet-magic 1 \\\n",
    "--out-file nguoi-ban.addr\n",
    "\n",
    "ls"
   ]
  },
  {
   "cell_type": "markdown",
   "id": "76d7b2e1-032a-4b1a-b4d5-8abfc103e2a3",
   "metadata": {},
   "source": [
    "**Lưu lại đường dẫn đến các files signing key và địa chỉ ví của các bên tham gia vào các biến để sau này tiện sử dụng**"
   ]
  },
  {
   "cell_type": "code",
   "execution_count": null,
   "id": "3548d9a0-5448-47b6-adbd-fbcf7a3ca605",
   "metadata": {},
   "outputs": [],
   "source": [
    "BUYER_SKEY=nguoi-mua.skey\n",
    "BUYER_ADDRESS=$(< nguoi-mua.addr)\n",
    "\n",
    "SELLER_SKEY=nguoi-ban.skey\n",
    "SELLER_ADDRESS=$(< nguoi-ban.addr)"
   ]
  },
  {
   "cell_type": "code",
   "execution_count": null,
   "id": "2c6f80e6-ed39-4364-9b08-c9dd9d25bd89",
   "metadata": {},
   "outputs": [],
   "source": [
    "echo \"Dia chi vi cua nguoi mua: $BUYER_ADDRESS\"\n",
    "echo \"Dia chi vi cua nguoi ban: $SELLER_ADDRESS\""
   ]
  },
  {
   "cell_type": "markdown",
   "id": "85a1e49c-d734-4604-9208-6b977caf1079",
   "metadata": {},
   "source": [
    "**Chuyển tADA vào ví của các bên, sau đó liệt kê các UTxO của từng địa chỉ ví xem đã nhận được tADA chưa**"
   ]
  },
  {
   "cell_type": "markdown",
   "id": "91a2c679-84d4-4124-9207-75366649f103",
   "metadata": {},
   "source": [
    "_Chuyển 140 tADA vào ví của người mua, và 30 tADA và 10 native tokens vào ví của người bán_"
   ]
  },
  {
   "cell_type": "code",
   "execution_count": null,
   "id": "4e202db9-6945-4b94-9872-dd6b4f04b660",
   "metadata": {},
   "outputs": [],
   "source": [
    "printf \"\\nCác UTXOs của người mua:\\n\"\n",
    "cardano-cli query utxo --testnet-magic 1 --address $BUYER_ADDRESS\n",
    "\n",
    "printf \"\\nCác UTXOs của người bán:\\n\"\n",
    "cardano-cli query utxo --testnet-magic 1 --address $SELLER_ADDRESS"
   ]
  },
  {
   "cell_type": "markdown",
   "id": "c968d0bb-9d20-4e51-b26c-45aa5aff502e",
   "metadata": {},
   "source": [
    "### Bước 2: Thiết lập các tham số dùng trong hợp đồng"
   ]
  },
  {
   "cell_type": "code",
   "execution_count": null,
   "id": "89317225-30dc-477c-ae90-e30fc308bfab",
   "metadata": {},
   "outputs": [],
   "source": [
    "INITIAL_LOVELACE=2000000              # Khi triển khai hợp đồng Marlowe lên blockchain thì sẽ gửi tạm 2₳ vào hợp đồng\n",
    "LOVELACE_AMOUNT=100000000             # Số lượng lovelace mà người mua cần chuyển vào hợp đồng\n",
    "TOKEN_AMOUNT=10                       # Số lượng token mà người bán cần chuyển vào hợp đồng\n",
    "MINIMUM_ADA=2000000                   # Số lovelace tối thiểu cần có cho mỗi UTxO có chứa native token là 2₳\n",
    "\n",
    "BUYER_ROLE=NguoiMua                   # Đặt tên token của role buyer là NguoiMua\n",
    "SELLER_ROLE=NguoiBan                  # Đặt tên token của role seller là NguoiBan\n",
    "\n",
    "NOW=$(($(date -u +%s)*1000))          # Thời gian hiện tại tính theo POSIX milliseconds."
   ]
  },
  {
   "cell_type": "code",
   "execution_count": null,
   "id": "7856e8cb-d8fd-47c4-97a6-bb9b89cd91b8",
   "metadata": {},
   "outputs": [],
   "source": [
    "echo \"Thời gian hiện tại: $NOW (POSIX) => $(date -d @$(($NOW / 1000)) \"+%H:%M:%S %d/%m/%Y UTC\")\""
   ]
  },
  {
   "cell_type": "markdown",
   "id": "abfa7f1d-c4ec-4ae5-a696-502771bfdc2b",
   "metadata": {},
   "source": [
    "### Bước 3: Tạo ra các role token và gửi vào địa chỉ ví của các bên tương ứng"
   ]
  },
  {
   "cell_type": "code",
   "execution_count": null,
   "id": "3ff1b515-02be-4121-a9a3-24ac261e9216",
   "metadata": {},
   "outputs": [],
   "source": [
    "marlowe-cli --conway-era util mint --issuer $BUYER_ADDRESS:$BUYER_SKEY                   \\\n",
    "\t\t\t\t\t\t--out-file /dev/null                                             \\\n",
    "\t\t\t\t\t\t--submit 600                                                     \\\n",
    "\t\t\t\t\t\t\"$SELLER_ROLE\":$SELLER_ADDRESS                                   \\\n",
    "\t\t\t\t\t\t\"$BUYER_ROLE\":$BUYER_ADDRESS"
   ]
  },
  {
   "cell_type": "markdown",
   "id": "7a014591-dc14-488d-a6a0-0ccbab05db45",
   "metadata": {},
   "source": [
    "**Kiểm tra xem token đã được mint và gửi đến đúng địa chỉ ví của các bên tương ứng chưa**"
   ]
  },
  {
   "cell_type": "code",
   "execution_count": null,
   "id": "92f9f071-921c-45ba-b07f-b107adaeda7b",
   "metadata": {},
   "outputs": [],
   "source": [
    "for n in \"$BUYER_ROLE\" \"$SELLER_ROLE\"\n",
    "do\n",
    "  echo \"$(echo -n $n | basenc --base16 | tr '[:upper:]' '[:lower:]') = $n\"\n",
    "done"
   ]
  },
  {
   "cell_type": "code",
   "execution_count": null,
   "id": "f5e0558d-b7b4-4852-8ad1-01045f3bc397",
   "metadata": {},
   "outputs": [],
   "source": [
    "printf \"\\nCác UTXOs của người mua:\\n\"\n",
    "cardano-cli query utxo --testnet-magic 1 --address $BUYER_ADDRESS\n",
    "\n",
    "printf \"\\nCác UTXOs của người bán:\\n\"\n",
    "cardano-cli query utxo --testnet-magic 1 --address $SELLER_ADDRESS"
   ]
  },
  {
   "cell_type": "markdown",
   "id": "13a91e35-3405-4311-915b-ce5a5ea092c7",
   "metadata": {},
   "source": [
    "**Lưu lại UTxO của các bên để sử dụng cho bước tiếp theo**"
   ]
  },
  {
   "cell_type": "code",
   "execution_count": null,
   "id": "a801a6bd-1c9c-44fd-b799-71535c11c045",
   "metadata": {},
   "outputs": [],
   "source": [
    "TX_0_BUYER_ADA_ONLY=\"52b2cdb4f40a51093f24d16164bcbe1d4f0bca23411ddbf3e4788f15a0940a18#0\"\n",
    "TX_0_BUYER_ROLE_TOKEN=\"52b2cdb4f40a51093f24d16164bcbe1d4f0bca23411ddbf3e4788f15a0940a18#2\"\n",
    "\n",
    "TX_0_SELLER_ADA_ONLY=\"be0d7749b041a88891fe85ebfa612e4b465a1a3f91331e815b3a05dc281e39c3#1\"\n",
    "TX_0_SELLER_ROLE_TOKEN=\"52b2cdb4f40a51093f24d16164bcbe1d4f0bca23411ddbf3e4788f15a0940a18#1\"\n",
    "TX_0_SELLER_NATIVE_TOKEN=\"be0d7749b041a88891fe85ebfa612e4b465a1a3f91331e815b3a05dc281e39c3#2\""
   ]
  },
  {
   "cell_type": "markdown",
   "id": "02c88f88-0cb1-42c0-a7ad-6324239a4402",
   "metadata": {},
   "source": [
    "**Lưu lại policy id và tên của các token**"
   ]
  },
  {
   "cell_type": "code",
   "execution_count": null,
   "id": "bd3cd3e4-8841-428d-9778-593499db5a88",
   "metadata": {},
   "outputs": [],
   "source": [
    "ROLES_CURRENCY=9745e9450d99579e8d5844da9c4282b002a46641c6da3be30417e2ae\n",
    "\n",
    "BUYER_TOKEN=\"$ROLES_CURRENCY.$BUYER_ROLE\"\n",
    "SELLER_TOKEN=\"$ROLES_CURRENCY.$SELLER_ROLE\"\n",
    "\n",
    "echo \"BUYER_TOKEN: $BUYER_TOKEN\"\n",
    "echo \"SELLER_TOKEN: $SELLER_TOKEN\""
   ]
  },
  {
   "cell_type": "markdown",
   "id": "f5c5c755-5bf7-4ee4-b090-4efb2ed48c04",
   "metadata": {},
   "source": [
    "### Bước 4: Triển khai và tương tác với hợp đồng trên blockchain"
   ]
  },
  {
   "cell_type": "markdown",
   "id": "25dffc29-3255-42d2-917a-85a578173aee",
   "metadata": {},
   "source": [
    "**Tạo 2 file JSON chứa nội dung và trạng thái của hợp đồng**\n",
    "\n",
    "Thay vì sử dụng lệnh `marlowe-cli template`, người dùng có thể tạo hợp đồng Marlowe trên Marlowe Playground bằng Haskell, JavaScript và Blockly.\n",
    "1. Thiết kế hợp đồng trên Marlowe Playground\n",
    "2. Ấn vào nút \"Send To Simulator\"\n",
    "3. Điền giá trị cho các tham số (nếu có)\n",
    "4. Ấn vào nút \"Download as JSON\" để tải hợp đồng về máy\n",
    "5. Đổi tên file JSON thành `tx-1.contract` (_không bắt buộc_)\n",
    "\n",
    "Marlowe Playground không tạo ra file JSON lưu trạng thái ban đầu của hợp đồng, cho nên sau khi đã tải được file JSON có chứa nội dung hợp đồng, chúng ta cần tạo ra 1 file JSON nữa để lưu trạng thái ban đầu của hợp đồng. File đó sẽ chứa các thông tin về số dư của các tài khoản nội bộ, những lựa chọn đã thực hiện, những giá trị có thể chọn, và thời gian tối thiểu (POSIX) hợp đồng có thể bắt đầu.\n",
    "\n",
    "Trong hợp đồng hoán đổi token này, chúng ta chỉ cần tạo 1 file JSON tên là `tx-1.state` với số dư tối thiểu `$INITIAL_LOVELACE` cho tài khoản nội bộ của vai trò sẽ triển khai hợp đồng lên blockchain. (Trong trường hợp này là vai trò `$BUYER_ROLE`)"
   ]
  },
  {
   "cell_type": "code",
   "execution_count": null,
   "id": "87839cf0-9114-4a59-8341-3e91e0035934",
   "metadata": {},
   "outputs": [],
   "source": [
    "cat << EOI > tx-1.state\n",
    "{\n",
    "    \"accounts\": [\n",
    "        [[{\"role_token\": \"$BUYER_ROLE\"}, {\"currency_symbol\": \"\", \"token_name\": \"\"}], $INITIAL_LOVELACE]\n",
    "    ],\n",
    "    \"choices\": [],\n",
    "    \"boundValues\": [],\n",
    "    \"minTime\": 1\n",
    "}\n",
    "EOI"
   ]
  },
  {
   "cell_type": "markdown",
   "id": "95c13764-e364-40b0-b347-bcdd337190aa",
   "metadata": {},
   "source": [
    "#### Transaction 1: Người mua triển khai hợp đồng lên mạng blockchain"
   ]
  },
  {
   "cell_type": "markdown",
   "id": "94b95fe9-3878-4381-9ea8-0e9aa109cae3",
   "metadata": {},
   "source": [
    "**Tạo file .marlowe chứa nội dung hợp đồng, trạng thái của nó, Plutus Validator và thông tin về network**"
   ]
  },
  {
   "cell_type": "code",
   "execution_count": null,
   "id": "ec7df200-b0e0-4a7f-8c15-f7e3a1ea0127",
   "metadata": {},
   "outputs": [],
   "source": [
    "marlowe-cli --conway-era run initialize --roles-currency \"$ROLES_CURRENCY\"        \\\n",
    "                           --permanently-without-staking                          \\\n",
    "                           --contract-file tx-1.contract                          \\\n",
    "                           --state-file    tx-1.state                             \\\n",
    "                           --out-file      tx-1.marlowe                           \\\n",
    "                           --print-stats\n",
    "\n",
    "# permanently-without-staking => Reference Scripts (CIP-33)"
   ]
  },
  {
   "cell_type": "markdown",
   "id": "c28576c5-940f-4f07-8b59-55e73253d379",
   "metadata": {},
   "source": [
    "**Dùng lệnh analyze để phân tích hợp đồng (file .marlowe) xem có thể chạy trên Cardano blockchain được không**"
   ]
  },
  {
   "cell_type": "code",
   "execution_count": null,
   "id": "6b74b4de-eb00-4d1f-80f4-2a00ad6be8b5",
   "metadata": {},
   "outputs": [],
   "source": [
    "marlowe-cli --conway-era run analyze --marlowe-file tx-1.marlowe"
   ]
  },
  {
   "cell_type": "markdown",
   "id": "8536bc73-f4b5-4595-8a94-395244a16924",
   "metadata": {},
   "source": [
    "**Người mua sử dụng ADA của mình để triển khai hợp đồng**"
   ]
  },
  {
   "cell_type": "code",
   "execution_count": null,
   "id": "5a9735cf-1ec2-4203-ab5e-0caa329b90e3",
   "metadata": {},
   "outputs": [],
   "source": [
    "echo $BUYER_SKEY"
   ]
  },
  {
   "cell_type": "code",
   "execution_count": null,
   "id": "46f19afb-e028-45c8-9802-bfc132dc71c5",
   "metadata": {},
   "outputs": [],
   "source": [
    "marlowe-cli --conway-era run execute --tx-in \"$TX_0_BUYER_ADA_ONLY\"      \\\n",
    "                        --change-address \"$BUYER_ADDRESS\"                \\\n",
    "                        --required-signer \"$BUYER_SKEY\"                  \\\n",
    "                        --marlowe-out-file tx-1.marlowe                  \\\n",
    "                        --out-file tx-1.raw                              \\\n",
    "                        --print-stats                                    \\\n",
    "                        --submit=600"
   ]
  },
  {
   "cell_type": "markdown",
   "id": "fe40a201-eaeb-488b-a124-709b487ff57f",
   "metadata": {},
   "source": [
    "**Lưu lại id của transaction để dùng cho bước tiếp theo**"
   ]
  },
  {
   "cell_type": "code",
   "execution_count": null,
   "id": "0efd73ea-6071-4d60-9517-f663bd889c5e",
   "metadata": {},
   "outputs": [],
   "source": [
    "printf \"\\nCác UTXOs của người mua:\\n\"\n",
    "cardano-cli query utxo --testnet-magic 1 --address $BUYER_ADDRESS"
   ]
  },
  {
   "cell_type": "code",
   "execution_count": null,
   "id": "6082c180-d1c5-4ce0-8dba-5835b18fcd6d",
   "metadata": {},
   "outputs": [],
   "source": [
    "TX_1=49f0a84f3ddc9c84330d97cd7308b51ac8a04defbb0fc5838756e54086dda288\n",
    "TX_1_BUYER_ADA_ONLY=\"49f0a84f3ddc9c84330d97cd7308b51ac8a04defbb0fc5838756e54086dda288#0\""
   ]
  },
  {
   "cell_type": "markdown",
   "id": "026a3824-45cd-4e4b-9d87-5c06fb2b1054",
   "metadata": {},
   "source": [
    "#### Transaction 2: Người mua gửi tiền vào tài khoản nội bộ của mình"
   ]
  },
  {
   "cell_type": "markdown",
   "id": "121d079c-8f78-4f87-bc7f-210662c4ae10",
   "metadata": {},
   "source": [
    "**Tạo ra file .marlowe chứa thông tin về trạng thái tiếp theo của hợp đồng**"
   ]
  },
  {
   "cell_type": "code",
   "execution_count": null,
   "id": "bc7d9426-348e-42b7-9fab-14a3df327583",
   "metadata": {},
   "outputs": [],
   "source": [
    "marlowe-cli --conway-era run prepare --marlowe-file tx-1.marlowe           \\\n",
    "                        --deposit-account \"$BUYER_ROLE\"                    \\\n",
    "                        --deposit-party \"$BUYER_ROLE\"                      \\\n",
    "                        --deposit-amount \"$LOVELACE_AMOUNT\"                \\\n",
    "                        --invalid-before \"$NOW\"                            \\\n",
    "                        --invalid-hereafter \"$((NOW+9*HOUR))\"              \\\n",
    "                        --out-file tx-2.marlowe                            \\\n",
    "                        --print-stats"
   ]
  },
  {
   "cell_type": "markdown",
   "id": "e4d5146e-09b4-4c47-8894-8a307f1d91a7",
   "metadata": {},
   "source": [
    "**Dùng lệnh analyze để phân tích hợp đồng (file .marlowe) xem có thể chạy trên Cardano blockchain được không**"
   ]
  },
  {
   "cell_type": "code",
   "execution_count": null,
   "id": "abfbde36-4f21-4f6e-92bd-ab6301bb1dfa",
   "metadata": {},
   "outputs": [],
   "source": [
    "marlowe-cli --conway-era run analyze --marlowe-file tx-2.marlowe"
   ]
  },
  {
   "cell_type": "markdown",
   "id": "be12ad64-6fd3-4bf7-83be-4ddfb596c7ff",
   "metadata": {},
   "source": [
    "**Thực hiện bước tiếp theo của hợp đồng**\n",
    "_(Trạng thái hiện tại + Bước tiếp theo = Trạng thái tiếp theo)_"
   ]
  },
  {
   "cell_type": "code",
   "execution_count": 28,
   "id": "388771ae-5d5c-47e7-a9d9-2414f2a05d0a",
   "metadata": {},
   "outputs": [
    {
     "name": "stdout",
     "output_type": "stream",
     "text": [
      "TxBodyScriptExecutionError [(ScriptWitnessIndexTxIn 1,ScriptErrorEvaluationFailed (CekError An error has occurred:\n",
      "The machine terminated because of an error, either from a built-in function or from an explicit use of 'error'.) [])]\n"
     ]
    },
    {
     "ename": "",
     "evalue": "1",
     "output_type": "error",
     "traceback": []
    }
   ],
   "source": [
    "marlowe-cli --conway-era run execute --marlowe-in-file tx-1.marlowe           \\\n",
    "                        --tx-in-marlowe \"$TX_1#1\"                             \\\n",
    "                        --tx-in-collateral \"$TX_1_BUYER_ADA_ONLY\"             \\\n",
    "                        --tx-in \"$TX_1_BUYER_ADA_ONLY\"                        \\\n",
    "                        --tx-in \"$TX_0_BUYER_ROLE_TOKEN\"                      \\\n",
    "                        --required-signer \"$BUYER_SKEY\"                       \\\n",
    "                        --marlowe-out-file tx-2.marlowe                       \\\n",
    "                        --tx-out \"$BUYER_ADDRESS+$MINIMUM_ADA+1 $BUYER_TOKEN\" \\\n",
    "                        --change-address \"$BUYER_ADDRESS\"                     \\\n",
    "                        --out-file tx-2.raw                                   \\\n",
    "                        --print-stats                                         \\\n",
    "                        --submit=600"
   ]
  },
  {
   "cell_type": "code",
   "execution_count": null,
   "id": "09c29338-6236-4fd6-ad08-dd34de3c7424",
   "metadata": {},
   "outputs": [],
   "source": [
    "marlowe-cli --conway-era run auto-execute --marlowe-in-file tx-1.marlowe      \\\n",
    "                        --tx-in-marlowe \"$TX_1#1\"                             \\\n",
    "                        --required-signer \"$BUYER_SKEY\"                       \\\n",
    "                        --marlowe-out-file tx-2.marlowe                       \\\n",
    "                        --change-address \"$BUYER_ADDRESS\"                     \\\n",
    "                        --out-file tx-2.raw                                   \\\n",
    "                        --print-stats                                         \\\n",
    "                        --submit=600"
   ]
  },
  {
   "cell_type": "markdown",
   "id": "9d18b43e-c02c-42da-bf25-bab2c81bbabc",
   "metadata": {},
   "source": [
    "**Lưu lại id của transaction để dùng sau này**"
   ]
  },
  {
   "cell_type": "code",
   "execution_count": null,
   "id": "17bb11df-6f34-4888-bfe1-0516a699b64e",
   "metadata": {},
   "outputs": [],
   "source": [
    "TX_2=3e94fb65f8eb6d7c1ac0508a1de0896da5f96167765f3a2892f216337d72ad51"
   ]
  },
  {
   "cell_type": "markdown",
   "id": "28f0f739-92eb-4759-8cf2-87f8e7e1103e",
   "metadata": {},
   "source": [
    "#### Transaction 3: Người bán chuyển token vào tài khoản nội bộ của mình"
   ]
  },
  {
   "cell_type": "markdown",
   "id": "df911f5b-f0bd-47fc-abe6-0a1554668e3a",
   "metadata": {},
   "source": [
    "**Tạo ra file .marlowe chứa thông tin về trạng thái tiếp theo của hợp đồng**"
   ]
  },
  {
   "cell_type": "code",
   "execution_count": null,
   "id": "ec82da5f-21a5-401f-ab99-26b355410662",
   "metadata": {},
   "outputs": [],
   "source": [
    "marlowe-cli --conway-era run prepare --marlowe-file tx-2.marlowe           \\\n",
    "                        --deposit-account \"$SELLER_ROLE\"                   \\\n",
    "                        --deposit-party \"$SELLER_ROLE\"                     \\\n",
    "                        --deposit-amount \"$TOKEN_AMOUNT\"                   \\\n",
    "                        --invalid-before \"$NOW\"                            \\\n",
    "                        --invalid-hereafter \"$((NOW+9*HOUR))\"              \\\n",
    "                        --out-file tx-3.marlowe                            \\\n",
    "                        --print-stats"
   ]
  },
  {
   "cell_type": "markdown",
   "id": "64a72037-208d-4a07-aca8-0b586fbee9f4",
   "metadata": {},
   "source": [
    "**Thực hiện bước tiếp theo của hợp đồng**\n",
    "_(Trạng thái hiện tại + Bước tiếp theo = Trạng thái tiếp theo)_"
   ]
  },
  {
   "cell_type": "code",
   "execution_count": null,
   "id": "39bcc79d-797d-4103-acd2-e36674637843",
   "metadata": {},
   "outputs": [],
   "source": [
    "marlowe-cli --conway-era run execute --marlowe-in-file tx-2.marlowe             \\\n",
    "                        --tx-in-marlowe \"$TX_2#1\"                               \\\n",
    "                        --tx-in-collateral \"$TX_0_SELLER_ADA_ONLY\"              \\\n",
    "                        --tx-in \"$TX_0_SELLER_ADA_ONLY\"                         \\\n",
    "                        --tx-in \"$TX_0_SELLER_ROLE_TOKEN\"                       \\\n",
    "                        --required-signer \"$SELLER_SKEY\"                        \\\n",
    "                        --marlowe-out-file tx-3.marlowe                         \\\n",
    "                        --tx-out \"$SELLER_ADDRESS+$MINIMUM_ADA+1 $SELLER_TOKEN\" \\\n",
    "                        --change-address \"$SELLER_ADDRESS\"                      \\\n",
    "                        --out-file tx-3.raw                                     \\\n",
    "                        --print-stats                                           \\\n",
    "                        --submit=600"
   ]
  },
  {
   "cell_type": "markdown",
   "id": "0a9de37d-6092-43e7-b2c8-06300b53b2ac",
   "metadata": {},
   "source": [
    "**Lưu lại id của transaction để dùng sau này**"
   ]
  },
  {
   "cell_type": "code",
   "execution_count": null,
   "id": "8a17df32-3d68-496a-b258-9a87891f9cbf",
   "metadata": {},
   "outputs": [],
   "source": [
    "TX_3=085d4523f3df7e05495e0b7d660e05f87907060b33e72cc0ecafb604c935cbb4"
   ]
  },
  {
   "cell_type": "markdown",
   "id": "4f1fb1d0-0a01-40b3-a41e-59081ebb366e",
   "metadata": {},
   "source": [
    "#### Transaction 4: Người bán rút ADA khỏi hợp đồng"
   ]
  },
  {
   "cell_type": "markdown",
   "id": "7bc1027c-5916-4a10-9f30-89a8772a853c",
   "metadata": {},
   "source": [
    "_Lệnh `marlowe-cli run withdraw` cho phép người bán rút ADA từ địa chỉ của Payout Script_"
   ]
  },
  {
   "cell_type": "code",
   "execution_count": null,
   "id": "9cd81522-b585-47af-8fa8-bff87fee3422",
   "metadata": {},
   "outputs": [],
   "source": [
    "marlowe-cli --conway-era run withdraw --marlowe-file tx-3.marlowe                     \\\n",
    "                           --role-name \"$SELLER_ROLE\"                                 \\\n",
    "                           --tx-in \"$TX_4#0\"                                          \\\n",
    "                           --tx-in \"$TX_4#2\"                                          \\\n",
    "                           --tx-in-collateral \"$TX_4#0\"                               \\\n",
    "                           --required-signer \"$SELLER_SKEY\"                           \\\n",
    "                           --tx-out \"$SELLER_ADDRESS+$MINIMUM_ADA+1 $SELLER_TOKEN\"    \\\n",
    "                           --change-address \"$SELLER_ADDRESS\"                         \\\n",
    "                           --out-file tx-4.raw                                        \\\n",
    "                           --print-stats                                              \\\n",
    "                           --submit=600"
   ]
  },
  {
   "cell_type": "markdown",
   "id": "9887dcde-e412-457f-83b2-b7867b2347a8",
   "metadata": {},
   "source": [
    "**Lưu lại id của transaction để dùng sau này**"
   ]
  },
  {
   "cell_type": "code",
   "execution_count": null,
   "id": "4b07a27e-340e-40d6-8c24-e73badf335e6",
   "metadata": {},
   "outputs": [],
   "source": [
    "TX_4=d3cc866d1166ece150e1d430de6a493dd529081b9bfe5b21fff82baef122353b"
   ]
  },
  {
   "cell_type": "markdown",
   "id": "b5f1c090-1d88-49e6-81f2-f9c0887d2bef",
   "metadata": {},
   "source": [
    "#### Transaction 5: Người mua rút token khỏi hợp đồng"
   ]
  },
  {
   "cell_type": "code",
   "execution_count": null,
   "id": "3b22fcb6-5859-4321-8688-be19ae9384b8",
   "metadata": {},
   "outputs": [],
   "source": [
    "marlowe-cli --conway-era run withdraw --marlowe-file tx-3.marlowe                    \\\n",
    "                         --role-name \"$MEDIATOR_ROLE\"                                \\\n",
    "                         --tx-in \"$TX_5#0\"                                           \\\n",
    "                         --tx-in \"$TX_5#3\"                                           \\\n",
    "                         --tx-in-collateral \"$TX_5#0\"                                \\\n",
    "                         --required-signer \"$MEDIATOR_SKEY\"                          \\\n",
    "                         --tx-out \"$MEDIATOR_ADDRESS+$MINIMUM_ADA+1 $MEDIATOR_TOKEN\" \\\n",
    "                         --change-address \"$MEDIATOR_ADDRESS\"                        \\\n",
    "                         --out-file tx-5.raw                                         \\\n",
    "                         --print-stats                                               \\\n",
    "                         --submit=600"
   ]
  },
  {
   "cell_type": "code",
   "execution_count": null,
   "id": "de8e6f14-bfda-4291-b336-28bc82257149",
   "metadata": {},
   "outputs": [],
   "source": [
    "TX_5=df35e666e793610d73c8d8422d1c810c04463184eb9ca17da01f2b9847e9a7b2"
   ]
  },
  {
   "cell_type": "markdown",
   "id": "9d2aae13-6015-4338-99ee-4a21c413a22d",
   "metadata": {},
   "source": [
    "#### Xem các transaction trên cardanoscan.io"
   ]
  },
  {
   "cell_type": "code",
   "execution_count": null,
   "id": "c70a82c5-baab-40b5-b459-da7b0cdb318a",
   "metadata": {},
   "outputs": [],
   "source": [
    "echo 'Transaction 1: https://preprod.cardanoscan.io/transaction/'\"$TX_1\"\n",
    "echo 'Transaction 2: https://preprod.cardanoscan.io/transaction/'\"$TX_2\"\n",
    "echo 'Transaction 3: https://preprod.cardanoscan.io/transaction/'\"$TX_3\"\n",
    "echo 'Transaction 4: https://preprod.cardanoscan.io/transaction/'\"$TX_4\"\n",
    "echo 'Transaction 5: https://preprod.cardanoscan.io/transaction/'\"$TX_5\""
   ]
  }
 ],
 "metadata": {
  "kernelspec": {
   "display_name": "Bash",
   "language": "bash",
   "name": "bash"
  },
  "language_info": {
   "codemirror_mode": "shell",
   "file_extension": ".sh",
   "mimetype": "text/x-sh",
   "name": "bash"
  }
 },
 "nbformat": 4,
 "nbformat_minor": 5
}
