{
 "cells": [
  {
   "cell_type": "markdown",
   "id": "234949ee-3157-43e6-aef7-209f04ce2bbe",
   "metadata": {},
   "source": [
    "## Hướng dẫn cài đặt marlowe-cli"
   ]
  },
  {
   "cell_type": "markdown",
   "id": "f182edc6-88b9-4e34-bfe1-b20f9b4f0a49",
   "metadata": {},
   "source": [
    "### Các thứ cần chuẩn bị"
   ]
  },
  {
   "cell_type": "markdown",
   "id": "0343bcce-78d6-46c4-93c6-164e8a1e2abe",
   "metadata": {},
   "source": [
    "Tạo một máy ảo Ubuntu với cấu hình như sau:\n",
    "- CPU architecture 64 bit (x86)\n",
    "- 4vCPU, 16GB RAM và 50GB SSD nếu chạy testnet"
   ]
  },
  {
   "cell_type": "markdown",
   "id": "aeb0e468-94c3-4cca-acfc-f49f17d3994b",
   "metadata": {
    "jp-MarkdownHeadingCollapsed": true
   },
   "source": [
    "### Cài đặt cardano node"
   ]
  },
  {
   "cell_type": "markdown",
   "id": "3063fc0b-fb2d-403c-975c-04af09534160",
   "metadata": {
    "jp-MarkdownHeadingCollapsed": true
   },
   "source": [
    "#### Cách 1: Tải file cardano-cli và cardano-node đã được build sẵn (nên dùng)"
   ]
  },
  {
   "cell_type": "markdown",
   "id": "4dd2c9b5-550f-493f-890f-1b48e8b4e6bd",
   "metadata": {},
   "source": [
    "Download the hydra binaries of cardano-node and cardano-cli from the [release notes](https://github.com/intersectmbo/cardano-node/releases)"
   ]
  },
  {
   "cell_type": "code",
   "execution_count": null,
   "id": "d0cfd783-25d8-41c4-9efe-03e4f85b2e02",
   "metadata": {},
   "outputs": [],
   "source": [
    "wget https://github.com/IntersectMBO/cardano-node/releases/download/10.1.3/cardano-node-10.1.3-linux.tar.gz"
   ]
  },
  {
   "cell_type": "markdown",
   "id": "66a40534-0365-47e2-85f5-aa8d09fe8b8b",
   "metadata": {},
   "source": [
    "Unzip the tar file"
   ]
  },
  {
   "cell_type": "code",
   "execution_count": null,
   "id": "c9aadc8d-1b45-4ec9-b37e-0fad7fc2266d",
   "metadata": {},
   "outputs": [],
   "source": [
    "tar -xvzf cardano-node-10.1.3-linux.tar.gz"
   ]
  },
  {
   "cell_type": "markdown",
   "id": "93939feb-55f6-4443-8b22-a70632b01201",
   "metadata": {},
   "source": [
    "Thêm /home/ubuntu/bin/ vào $PATH bằng cách thêm dòng sau vào cuối file ~/.profile"
   ]
  },
  {
   "cell_type": "code",
   "execution_count": null,
   "id": "2d519e24-9d0b-4a2d-8f0f-23a5eca9f859",
   "metadata": {},
   "outputs": [],
   "source": [
    "PATH=\"/home/ubuntu/bin:$PATH\""
   ]
  },
  {
   "cell_type": "markdown",
   "id": "ccd84fbb-b22f-4de3-b5dd-97348c9ff61f",
   "metadata": {},
   "source": [
    "Tắt đi bật lại terminal"
   ]
  },
  {
   "cell_type": "markdown",
   "id": "7cc549c8-d02c-443e-ac38-d37b94acbfd9",
   "metadata": {},
   "source": [
    "Test thử xem đã dùng được `cardano-cli` và `cardano-node` chưa"
   ]
  },
  {
   "cell_type": "code",
   "execution_count": null,
   "id": "f829c6ad-4142-4d16-bcf6-98d78bd3d0a6",
   "metadata": {},
   "outputs": [],
   "source": [
    "cardano-cli --version\n",
    "cardano-node --version"
   ]
  },
  {
   "cell_type": "markdown",
   "id": "f2429860-c753-4b87-a5d3-e72ed57e89b6",
   "metadata": {
    "jp-MarkdownHeadingCollapsed": true
   },
   "source": [
    "#### Cách 2: Build lại từ source code"
   ]
  },
  {
   "cell_type": "markdown",
   "id": "4a508a70-5065-4412-8c1e-8a28829d50ca",
   "metadata": {},
   "source": [
    "Tài liệu hướng dẫn: [Installing the node from source](https://developers.cardano.org/docs/get-started/cardano-node/installing-cardano-node/)"
   ]
  },
  {
   "cell_type": "markdown",
   "id": "3cb28e73-db50-4007-83f6-3109f6e5344b",
   "metadata": {
    "jp-MarkdownHeadingCollapsed": true
   },
   "source": [
    "##### Cài đặt ghc và cabal"
   ]
  },
  {
   "cell_type": "markdown",
   "id": "75d4f858-8fbe-4365-9cb1-550acf7bd82e",
   "metadata": {},
   "source": [
    "Chạy 2 lệnh sau để download các packages và tools cần thiết để build được `cardano-node` từ source code"
   ]
  },
  {
   "cell_type": "code",
   "execution_count": null,
   "id": "2fea756b-c337-4a1c-bf41-419df011bfbd",
   "metadata": {},
   "outputs": [],
   "source": [
    "sudo apt-get update -y\n",
    "sudo apt-get install automake build-essential pkg-config libffi-dev libgmp-dev libssl-dev libtinfo-dev libsystemd-dev zlib1g-dev make g++ tmux git jq wget libncursesw5 libtool autoconf liblmdb-dev -y"
   ]
  },
  {
   "cell_type": "markdown",
   "id": "7427d4a6-c161-4d17-aa26-a308dcb7b7e4",
   "metadata": {},
   "source": [
    "Chạy 2 lệnh sau để cài đặt `GHCup` để có thể install các Haskell tools ([tài liệu hướng dẫn cài đặt GHCup](https://www.haskell.org/ghcup/install/))"
   ]
  },
  {
   "cell_type": "code",
   "execution_count": null,
   "id": "1a122eaf-49d5-43e1-8543-b8b7b21d16ff",
   "metadata": {},
   "outputs": [],
   "source": [
    "sudo apt-get install curl libffi-dev libffi8 libgmp-dev libgmp10 libncurses-dev libncurses5 libtinfo5\n",
    "\n",
    "curl --proto '=https' --tlsv1.2 -sSf https://get-ghcup.haskell.org | sh"
   ]
  },
  {
   "cell_type": "markdown",
   "id": "320b2cee-b217-477b-95b1-333abcb4f85f",
   "metadata": {},
   "source": [
    "Tắt đi bật lại terminal"
   ]
  },
  {
   "cell_type": "markdown",
   "id": "84b94f29-06e3-4f37-8359-c2c6202b6034",
   "metadata": {},
   "source": [
    "Chạy tiếp các lệnh sau"
   ]
  },
  {
   "cell_type": "code",
   "execution_count": null,
   "id": "1a2a6b79-492e-4ee0-bd50-25154a7baaa4",
   "metadata": {},
   "outputs": [],
   "source": [
    "ghcup install ghc 8.10.7\n",
    "ghcup install cabal 3.8.1.0\n",
    "ghcup set ghc 8.10.7\n",
    "ghcup set cabal 3.8.1.0"
   ]
  },
  {
   "cell_type": "markdown",
   "id": "9d84b784-265d-44d6-9a45-3315dbed22e9",
   "metadata": {},
   "source": [
    "Chọn version của cardano node mà bạn muốn cài đặt ([xem danh sách các tags ở đây](https://github.com/IntersectMBO/cardano-node/tags)). Sau đó chạy 2 lệnh sau (lưu ý là thay 10.1.3 thành cái version bạn muốn cài đặt)"
   ]
  },
  {
   "cell_type": "code",
   "execution_count": null,
   "id": "3152fd8b-8ee6-4e00-9ae0-6bb65c2c14ca",
   "metadata": {},
   "outputs": [],
   "source": [
    "CARDANO_NODE_VERSION='10.1.3'\n",
    "IOHKNIX_VERSION=$(curl https://raw.githubusercontent.com/IntersectMBO/cardano-node/$CARDANO_NODE_VERSION/flake.lock | jq -r '.nodes.iohkNix.locked.rev')\n",
    "echo \"iohk-nix version: $IOHKNIX_VERSION\""
   ]
  },
  {
   "cell_type": "markdown",
   "id": "5f9bf854-61bf-403d-8a4d-e5a271e8fe3d",
   "metadata": {
    "jp-MarkdownHeadingCollapsed": true
   },
   "source": [
    "##### Cài đặt `sodium`"
   ]
  },
  {
   "cell_type": "markdown",
   "id": "38f41641-2bb8-40ae-9794-3fc310f3b76c",
   "metadata": {},
   "source": [
    "Tạo 1 folder riêng để build sodium"
   ]
  },
  {
   "cell_type": "code",
   "execution_count": null,
   "id": "20fff07a-8bf9-4dff-97af-648dc67b6446",
   "metadata": {},
   "outputs": [],
   "source": [
    "mkdir -p ~/src\n",
    "cd ~/src"
   ]
  },
  {
   "cell_type": "markdown",
   "id": "d7958fd8-5245-4e71-8819-97e664743699",
   "metadata": {},
   "source": [
    "Tìm version của sodium phù hợp với version của cardano-node"
   ]
  },
  {
   "cell_type": "code",
   "execution_count": null,
   "id": "5f0b990b-1444-40c4-bdcb-998f0f2a1023",
   "metadata": {},
   "outputs": [],
   "source": [
    "SODIUM_VERSION=$(curl https://raw.githubusercontent.com/input-output-hk/iohk-nix/$IOHKNIX_VERSION/flake.lock | jq -r '.nodes.sodium.original.rev')\n",
    "echo \"Using sodium version: $SODIUM_VERSION\""
   ]
  },
  {
   "cell_type": "markdown",
   "id": "f9dee9d7-7462-40d2-8420-6d2fec1a4e15",
   "metadata": {},
   "source": [
    "Tải và cài đặt sodium"
   ]
  },
  {
   "cell_type": "code",
   "execution_count": null,
   "id": "9775ef50-02cd-497c-9b6e-73a2a7875e40",
   "metadata": {},
   "outputs": [],
   "source": [
    ": ${SODIUM_VERSION:='dbb48cc'}\n",
    "git clone https://github.com/intersectmbo/libsodium\n",
    "cd libsodium\n",
    "git checkout $SODIUM_VERSION\n",
    "./autogen.sh\n",
    "./configure\n",
    "make\n",
    "make check\n",
    "sudo make install"
   ]
  },
  {
   "cell_type": "markdown",
   "id": "fe2dc9bb-de6f-47f1-b87b-e76502ca3c99",
   "metadata": {},
   "source": [
    "Thêm 2 dòng sau vào cuối file ~/.bashrc"
   ]
  },
  {
   "cell_type": "code",
   "execution_count": null,
   "id": "1c674b63-03b6-4544-aa64-368e927abc14",
   "metadata": {},
   "outputs": [],
   "source": [
    "export LD_LIBRARY_PATH=\"/usr/local/lib:$LD_LIBRARY_PATH\"\n",
    "export PKG_CONFIG_PATH=\"/usr/local/lib/pkgconfig:$PKG_CONFIG_PATH\""
   ]
  },
  {
   "cell_type": "markdown",
   "id": "2c1ab3bf-352a-4217-a64a-c29d7841ee75",
   "metadata": {},
   "source": [
    "Tắt đi và bật lại terminal"
   ]
  },
  {
   "cell_type": "markdown",
   "id": "b066fa04-daed-4471-8b20-1cdc3e27eed3",
   "metadata": {
    "jp-MarkdownHeadingCollapsed": true
   },
   "source": [
    "##### Cài đặt `secp256k1`"
   ]
  },
  {
   "cell_type": "markdown",
   "id": "1f44cd41-4d57-4136-bede-aa7009e5913f",
   "metadata": {},
   "source": [
    "Tìm version của `secp256k1` phù hợp với version của `cardano-node`"
   ]
  },
  {
   "cell_type": "code",
   "execution_count": null,
   "id": "f87d27c3-110a-44eb-81d8-4091b8e03dc2",
   "metadata": {},
   "outputs": [],
   "source": [
    "CARDANO_NODE_VERSION='10.1.3'\n",
    "IOHKNIX_VERSION=$(curl https://raw.githubusercontent.com/IntersectMBO/cardano-node/$CARDANO_NODE_VERSION/flake.lock | jq -r '.nodes.iohkNix.locked.rev')\n",
    "echo \"iohk-nix version: $IOHKNIX_VERSION\""
   ]
  },
  {
   "cell_type": "code",
   "execution_count": null,
   "id": "78295baa-0cc6-428a-8887-fb9863e7b631",
   "metadata": {},
   "outputs": [],
   "source": [
    "SECP256K1_VERSION=$(curl https://raw.githubusercontent.com/input-output-hk/iohk-nix/$IOHKNIX_VERSION/flake.lock | jq -r '.nodes.secp256k1.original.ref')\n",
    "echo \"Using secp256k1 version: ${SECP256K1_VERSION}\""
   ]
  },
  {
   "cell_type": "markdown",
   "id": "f2cf0475-7de9-4a9a-ab0e-a2963d36c524",
   "metadata": {},
   "source": [
    "Tải và cài đặt `secp256k1`"
   ]
  },
  {
   "cell_type": "code",
   "execution_count": null,
   "id": "2eafe4fd-7270-4b08-bdc2-070db7349554",
   "metadata": {},
   "outputs": [],
   "source": [
    ": ${SECP256K1_VERSION:='v0.3.2'}\n",
    "sudo apt install autoconf\n",
    "git clone --depth 1 --branch ${SECP256K1_VERSION} https://github.com/bitcoin-core/secp256k1\n",
    "cd secp256k1\n",
    "./autogen.sh\n",
    "./configure --enable-module-schnorrsig --enable-experimental\n",
    "make\n",
    "make check\n",
    "sudo make install"
   ]
  },
  {
   "cell_type": "markdown",
   "id": "def21bf5-20a9-494a-ad3d-10d4c6c7f4be",
   "metadata": {
    "jp-MarkdownHeadingCollapsed": true
   },
   "source": [
    "##### Cài đặt blst"
   ]
  },
  {
   "cell_type": "markdown",
   "id": "11c3c05a-74cb-4ef0-b082-634e5eca3a6f",
   "metadata": {},
   "source": [
    "Tìm version phù hợp với version của cardano-node"
   ]
  },
  {
   "cell_type": "code",
   "execution_count": null,
   "id": "d42ec5d5-dd83-4b88-a164-31858c95ea1d",
   "metadata": {},
   "outputs": [],
   "source": [
    "BLST_VERSION=$(curl https://raw.githubusercontent.com/input-output-hk/iohk-nix/master/flake.lock | jq -r '.nodes.blst.original.ref')\n",
    "echo \"Using blst version: ${BLST_VERSION}\""
   ]
  },
  {
   "cell_type": "code",
   "execution_count": null,
   "id": "cc3c979d-a513-4aa9-b0ea-83d37df1832c",
   "metadata": {},
   "outputs": [],
   "source": [
    "cd ~"
   ]
  },
  {
   "cell_type": "markdown",
   "id": "ac2e80db-b37f-45d1-a0b9-9c720278010a",
   "metadata": {},
   "source": [
    "Tải và cài đặt `blst`"
   ]
  },
  {
   "cell_type": "code",
   "execution_count": null,
   "id": "eaebbe66-91ab-4e28-bfab-a36d753cf4cb",
   "metadata": {},
   "outputs": [],
   "source": [
    ": ${BLST_VERSION:='v0.3.11'}\n",
    "git clone --depth 1 --branch ${BLST_VERSION} https://github.com/supranational/blst\n",
    "cd blst\n",
    "./build.sh\n",
    "cat > libblst.pc << EOF\n",
    "prefix=/usr/local\n",
    "exec_prefix=\\${prefix}\n",
    "libdir=\\${exec_prefix}/lib\n",
    "includedir=\\${prefix}/include\n",
    "\n",
    "Name: libblst\n",
    "Description: Multilingual BLS12-381 signature library\n",
    "URL: https://github.com/supranational/blst\n",
    "Version: ${BLST_VERSION#v}\n",
    "Cflags: -I\\${includedir}\n",
    "Libs: -L\\${libdir} -lblst\n",
    "EOF\n",
    "sudo cp libblst.pc /usr/local/lib/pkgconfig/\n",
    "sudo cp bindings/blst_aux.h bindings/blst.h bindings/blst.hpp  /usr/local/include/\n",
    "sudo cp libblst.a /usr/local/lib\n",
    "sudo chmod u=rw,go=r /usr/local/{lib/{libblst.a,pkgconfig/libblst.pc},include/{blst.{h,hpp},blst_aux.h}}"
   ]
  },
  {
   "cell_type": "markdown",
   "id": "4091ba2f-b446-4552-87e7-cdc7a9d0d4a6",
   "metadata": {},
   "source": [
    "##### Tải source code của cardano node và build"
   ]
  },
  {
   "cell_type": "markdown",
   "id": "08cd0345-4ae7-4d67-a1c1-e642b4769c8b",
   "metadata": {},
   "source": [
    "Tạo thư mục src để build"
   ]
  },
  {
   "cell_type": "code",
   "execution_count": null,
   "id": "601443f7-3b03-45db-a366-2b2048cc017c",
   "metadata": {},
   "outputs": [],
   "source": [
    "mkdir -p ~/src\n",
    "cd ~/src"
   ]
  },
  {
   "cell_type": "markdown",
   "id": "03f27089-e9c6-46ed-8930-d9b9d8c32e79",
   "metadata": {},
   "source": [
    "Tải source code của cardano node"
   ]
  },
  {
   "cell_type": "code",
   "execution_count": null,
   "id": "0e0794f3-2749-4975-9069-28b358556bc9",
   "metadata": {},
   "outputs": [],
   "source": [
    "git clone https://github.com/intersectmbo/cardano-node.git\n",
    "cd cardano-node"
   ]
  },
  {
   "cell_type": "markdown",
   "id": "2475bf04-2358-4bf2-a45e-ca1cc184bcbf",
   "metadata": {},
   "source": [
    "Check out the latest version of cardano-node (choose the tag with the highest version number: TAGGED-VERSION):"
   ]
  },
  {
   "cell_type": "code",
   "execution_count": null,
   "id": "cfff4dd8-085e-489f-8e03-0a90dda99bc3",
   "metadata": {},
   "outputs": [],
   "source": [
    "git fetch --all --recurse-submodules --tags\n",
    "git tag | sort -V\n",
    "git checkout tags/<TAGGED VERSION>"
   ]
  },
  {
   "cell_type": "markdown",
   "id": "60a1d280-4689-4ac0-bf64-706dc6186e44",
   "metadata": {},
   "source": [
    "Configuring the build options"
   ]
  },
  {
   "cell_type": "code",
   "execution_count": null,
   "id": "d77a098e-0cf9-434b-8913-533004ce659a",
   "metadata": {},
   "outputs": [],
   "source": [
    "echo \"with-compiler: ghc-8.10.7\" >> cabal.project.local"
   ]
  },
  {
   "cell_type": "markdown",
   "id": "45a0871e-6ae1-4dca-a709-95279b393274",
   "metadata": {},
   "source": [
    "Building and installing the node (bước này mất khá nhiều thời gian, tầm 4 tiếng)"
   ]
  },
  {
   "cell_type": "code",
   "execution_count": null,
   "id": "35660f9d-089a-450d-b0b0-a9957e23621d",
   "metadata": {},
   "outputs": [],
   "source": [
    "cabal update\n",
    "cabal build all\n",
    "cabal build cardano-cli"
   ]
  },
  {
   "cell_type": "markdown",
   "id": "b9c87360-0635-4cfb-a5a4-e31d3d892719",
   "metadata": {},
   "source": [
    "Install the newly built node and CLI commands to the ~/.local/bin directory"
   ]
  },
  {
   "cell_type": "code",
   "execution_count": null,
   "id": "e63da04e-dc10-4126-ab77-dafc40682a28",
   "metadata": {},
   "outputs": [],
   "source": [
    "mkdir -p ~/.local/bin\n",
    "cp -p \"$(./scripts/bin-path.sh cardano-node)\" ~/.local/bin/\n",
    "cp -p \"$(./scripts/bin-path.sh cardano-cli)\" ~/.local/bin/"
   ]
  },
  {
   "cell_type": "markdown",
   "id": "3df53cd1-a89b-4ddc-9596-7e2065ccf507",
   "metadata": {},
   "source": [
    "Thêm ~/.local/bin/ vào $PATH bằng cách thêm dòng sau vào cuối file ~/.profile"
   ]
  },
  {
   "cell_type": "code",
   "execution_count": null,
   "id": "013af83c-7f2f-4a77-b910-e3eed56dec86",
   "metadata": {},
   "outputs": [],
   "source": [
    "PATH=\"~/.local/bin:$PATH\""
   ]
  },
  {
   "cell_type": "markdown",
   "id": "7d16a56a-cc0f-4da8-9c76-387290129159",
   "metadata": {},
   "source": [
    "Tắt terminal đi và bật lại, sau đó kiểm tra xem đã dùng được cardano-cli hay chưa bằng cách chạy câu lệnh sau"
   ]
  },
  {
   "cell_type": "code",
   "execution_count": null,
   "id": "8b47b7d4-51e0-41a9-bcce-b116065f3c0e",
   "metadata": {},
   "outputs": [],
   "source": [
    "cardano-cli --version"
   ]
  },
  {
   "cell_type": "markdown",
   "id": "de4c1a63-65ab-4514-8386-90e7d6945926",
   "metadata": {
    "jp-MarkdownHeadingCollapsed": true
   },
   "source": [
    "### Chạy cardano node"
   ]
  },
  {
   "cell_type": "markdown",
   "id": "c2feaaeb-5e6f-42cd-9ec8-dd8cea841cbc",
   "metadata": {},
   "source": [
    "Tạo folder $HOME/cardano/testnet"
   ]
  },
  {
   "cell_type": "code",
   "execution_count": null,
   "id": "4752fe7f-8b5d-4580-a101-26126f42ab7d",
   "metadata": {},
   "outputs": [],
   "source": [
    "mkdir -p $HOME/cardano/testnet\n",
    "cd $HOME/cardano/testnet"
   ]
  },
  {
   "cell_type": "markdown",
   "id": "69d9b2dc-2410-47bc-ad5f-f3b06a0ff7fb",
   "metadata": {},
   "source": [
    "Tải các file config của mạng preprod bằng cách chạy câu lệnh sau"
   ]
  },
  {
   "cell_type": "code",
   "execution_count": null,
   "id": "3bac0ed4-0bba-4f2d-a688-91787ae5406d",
   "metadata": {},
   "outputs": [],
   "source": [
    "curl -O -J https://book.play.dev.cardano.org/environments/preprod/config.json\n",
    "curl -O -J https://book.play.dev.cardano.org/environments/preprod/db-sync-config.json\n",
    "curl -O -J https://book.play.dev.cardano.org/environments/preprod/submit-api-config.json\n",
    "curl -O -J https://book.play.dev.cardano.org/environments/preprod/topology.json\n",
    "curl -O -J https://book.play.dev.cardano.org/environments/preprod/byron-genesis.json\n",
    "curl -O -J https://book.play.dev.cardano.org/environments/preprod/shelley-genesis.json\n",
    "curl -O -J https://book.play.dev.cardano.org/environments/preprod/alonzo-genesis.json\n",
    "curl -O -J https://book.play.dev.cardano.org/environments/preprod/conway-genesis.json"
   ]
  },
  {
   "cell_type": "markdown",
   "id": "b8fa1467-11cf-45e6-bf70-3d78d1dea2be",
   "metadata": {},
   "source": [
    "Tạo folder db trong folder $HOME/cardano/testnet/"
   ]
  },
  {
   "cell_type": "code",
   "execution_count": null,
   "id": "269ba223-1afd-4cd1-a284-c4f91a442126",
   "metadata": {},
   "outputs": [],
   "source": [
    "mkdir $HOME/cardano/testnet/db"
   ]
  },
  {
   "cell_type": "markdown",
   "id": "f1d446c7-ba71-43a1-a949-bbbb57f97750",
   "metadata": {},
   "source": [
    "Cấu trúc thư mục sẽ như sau:\n",
    "```\n",
    "$HOME/cardano/testnet/\n",
    "├── alonzo-genesis.json\n",
    "├── byron-genesis.json\n",
    "├── config.json\n",
    "├── conway-genesis.json\n",
    "├── db\n",
    "├── db-sync-config.json\n",
    "├── shelley-genesis.json\n",
    "├── submit-api-config.json\n",
    "└── topology.json\n",
    "```"
   ]
  },
  {
   "cell_type": "markdown",
   "id": "456531be-f4b7-4b22-94a5-48c7275d392e",
   "metadata": {},
   "source": [
    "Chạy node cardano bằng câu lệnh sau"
   ]
  },
  {
   "cell_type": "code",
   "execution_count": null,
   "id": "91d74293-614e-4400-92e4-a5c9969fd54e",
   "metadata": {},
   "outputs": [],
   "source": [
    "cardano-node run                                           \\\n",
    "    --config $HOME/cardano/testnet/config.json             \\\n",
    "    --database-path $HOME/cardano/testnet/db/              \\\n",
    "    --socket-path $HOME/cardano/testnet/db/node.socket     \\\n",
    "    --host-addr 0.0.0.0                                    \\\n",
    "    --port 1337                                            \\\n",
    "    --topology $HOME/cardano/testnet/topology.json"
   ]
  },
  {
   "cell_type": "markdown",
   "id": "5acb3b54-8358-4ab5-bc80-3a351425fc4e",
   "metadata": {},
   "source": [
    "Mở một terminal khác, lưu đường dẫn đến node.socket vào biến CARDANO_NODE_SOCKET_PATH bằng cách thêm 2 dòng sau vao file ~/.profile"
   ]
  },
  {
   "cell_type": "code",
   "execution_count": null,
   "id": "9d184b4b-722b-4b31-bd3b-b0879138aeff",
   "metadata": {},
   "outputs": [],
   "source": [
    "export CARDANO_NODE_SOCKET_PATH=\"/home/ubuntu/cardano/testnet/db/node.socket\"\n",
    "export CARDANO_TESTNET_MAGIC=1 # preprod"
   ]
  },
  {
   "cell_type": "markdown",
   "id": "f63841c8-c029-4e9a-a226-b6f6fe45110b",
   "metadata": {},
   "source": [
    "Tắt đi và bật lại terminal"
   ]
  },
  {
   "cell_type": "markdown",
   "id": "a03ab2ef-2b4d-4b1f-bd93-a13b2992c122",
   "metadata": {},
   "source": [
    "Kiểm tra xem node đã bắt đầu đồng bộ dữ liệu chưa bằng câu lệnh sau"
   ]
  },
  {
   "cell_type": "code",
   "execution_count": null,
   "id": "d992789d-f3eb-49cf-9628-04470d5bb349",
   "metadata": {},
   "outputs": [],
   "source": [
    "cardano-cli query tip --testnet-magic 1"
   ]
  },
  {
   "cell_type": "markdown",
   "id": "1e17c92f-cb6b-4f7d-8ae4-6455113bbbe2",
   "metadata": {
    "jp-MarkdownHeadingCollapsed": true
   },
   "source": [
    "### Build marlowe-cli từ source code"
   ]
  },
  {
   "cell_type": "markdown",
   "id": "52d0b76f-f861-4aee-86e9-8e5bba676263",
   "metadata": {},
   "source": [
    "Cài đặt curl và rsync"
   ]
  },
  {
   "cell_type": "code",
   "execution_count": null,
   "id": "0bb52200-9b2c-4171-9c68-a411e7502816",
   "metadata": {},
   "outputs": [],
   "source": [
    "sudo sh -c 'apt update && apt install curl rsync'"
   ]
  },
  {
   "cell_type": "markdown",
   "id": "f6f596e0-0fc6-42e3-a677-9198cf122ce3",
   "metadata": {},
   "source": [
    "Cài đặt z3 (a dependency used by marlowe-cli run analyze for analyzing smart contract safety of contract execution)"
   ]
  },
  {
   "cell_type": "code",
   "execution_count": null,
   "id": "eb30d6d3-1107-403e-90e4-b7ff13098512",
   "metadata": {},
   "outputs": [],
   "source": [
    "sudo sh -c 'apt install -y z3'"
   ]
  },
  {
   "cell_type": "markdown",
   "id": "94526c5a-6712-4cc6-8d6a-1ec7c495cf88",
   "metadata": {},
   "source": [
    "Cài đặt nixOS"
   ]
  },
  {
   "cell_type": "code",
   "execution_count": null,
   "id": "a989fa4b-7822-47c4-8eb3-dc643b8e4939",
   "metadata": {},
   "outputs": [],
   "source": [
    "sh <(curl -L https://nixos.org/nix/install) --daemon"
   ]
  },
  {
   "cell_type": "markdown",
   "id": "dd8555c6-cd02-4003-9b74-4dfafff335c9",
   "metadata": {},
   "source": [
    "Change ownership of the /nix directory to your user ubuntu"
   ]
  },
  {
   "cell_type": "code",
   "execution_count": null,
   "id": "17bc1b01-c1fb-4553-bc23-204c948c9399",
   "metadata": {},
   "outputs": [],
   "source": [
    "sudo chown -R ubuntu /nix"
   ]
  },
  {
   "cell_type": "markdown",
   "id": "04c7d3e7-cd98-4728-98bc-12c7dc2369f1",
   "metadata": {},
   "source": [
    "Run these commands to add the configurations to nix.conf will enhance the build process for NixOS by utilizing pre-compiled, trusted binaries"
   ]
  },
  {
   "cell_type": "markdown",
   "id": "4e5575c5-3ffc-4da2-a011-cd6cbcdb2004",
   "metadata": {},
   "source": [
    "Documentation: [Setting Up IOG Binary Cache](https://github.com/input-output-hk/iogx/blob/main/doc/nix-setup-guide.md#setting-up-iog-binary-cache)"
   ]
  },
  {
   "cell_type": "code",
   "execution_count": null,
   "id": "432e4dda-015c-49ba-9bb4-ae2f2e2ece45",
   "metadata": {},
   "outputs": [],
   "source": [
    "sudo sh -c \"echo 'substituters = https://cache.nixos.org https://cache.iog.io' >> /etc/nix/nix.conf\"\n",
    "sudo sh -c \"echo 'trusted-public-keys = hydra.iohk.io:f/Ea+s+dFdN+3Y/G+FDgSq+a5NEWhJGzdjvKNGv0/EQ= cache.nixos.org-1:6NCHdD59X431o0gWypbMrAURkbJ16ZPMQFGspcDShjY=' >> /etc/nix/nix.conf\"\n",
    "sudo sh -c \"echo 'experimental-features = nix-command' >> /etc/nix/nix.conf\"  \n",
    "sudo sh -c \"echo 'extra-experimental-features = flakes' >> /etc/nix/nix.conf\"  \n",
    "sudo sh -c 'echo \"trusted-users = $0\" >> /etc/nix/nix.conf' `whoami`"
   ]
  },
  {
   "cell_type": "markdown",
   "id": "cbeb4f01-24c1-4ab1-b6f7-167d87a4de06",
   "metadata": {},
   "source": [
    "Restart Nix"
   ]
  },
  {
   "cell_type": "code",
   "execution_count": null,
   "id": "65ecce45-651b-469f-b446-a5f57af7b4cf",
   "metadata": {},
   "outputs": [],
   "source": [
    "sudo systemctl restart nix-daemon.service"
   ]
  },
  {
   "cell_type": "markdown",
   "id": "a066dcf2-d0bb-4efe-9a8b-bda9b160b088",
   "metadata": {},
   "source": [
    "Tắt đi và bật lại terminal"
   ]
  },
  {
   "cell_type": "markdown",
   "id": "95b33fcd-72b9-44e4-8956-99acdce99e09",
   "metadata": {},
   "source": [
    "Clone the marlowe-cardano repository"
   ]
  },
  {
   "cell_type": "code",
   "execution_count": null,
   "id": "5662c417-41c2-46b9-9ee7-27a27bd49137",
   "metadata": {},
   "outputs": [],
   "source": [
    "git clone https://github.com/input-output-hk/marlowe-cardano\n",
    "cd marlowe-cardano\n",
    "git checkout 99f432d8ef9dbd1b52b7fa089254de15913b490f"
   ]
  },
  {
   "cell_type": "markdown",
   "id": "21732f8f-2186-41c0-9ed0-1078cb413c4a",
   "metadata": {},
   "source": [
    "Enter marlowe-cli folder"
   ]
  },
  {
   "cell_type": "code",
   "execution_count": null,
   "id": "37decd82-1f5a-4cfe-8143-e963714d6434",
   "metadata": {},
   "outputs": [],
   "source": [
    "cd marlowe-cli"
   ]
  },
  {
   "cell_type": "markdown",
   "id": "7a5b798e-527f-455b-a73e-170f055f7f0f",
   "metadata": {},
   "source": [
    "Enter nix virtual environment (~1 hour) be patient!"
   ]
  },
  {
   "cell_type": "code",
   "execution_count": null,
   "id": "323af480-8b5b-4f4a-a1bf-62e2937d6b9b",
   "metadata": {},
   "outputs": [],
   "source": [
    "nix develop"
   ]
  },
  {
   "cell_type": "markdown",
   "id": "71f39b2d-c67b-47b5-bbf7-01806a6c1330",
   "metadata": {},
   "source": [
    "Download the latest list of Haskell packages (be patient)"
   ]
  },
  {
   "cell_type": "code",
   "execution_count": null,
   "id": "d541f2cb-608f-40fd-857e-e1b1880ab67b",
   "metadata": {},
   "outputs": [],
   "source": [
    "cabal update"
   ]
  },
  {
   "cell_type": "markdown",
   "id": "b70db7ed-33b8-4530-87c1-aa5c46d1f90c",
   "metadata": {},
   "source": [
    "Build the marlowe-cli executable"
   ]
  },
  {
   "cell_type": "code",
   "execution_count": null,
   "id": "1cb3cf14-0610-4478-8dc0-94d64092c878",
   "metadata": {},
   "outputs": [],
   "source": [
    "marlowe-cli"
   ]
  },
  {
   "cell_type": "markdown",
   "id": "969182a5-6d54-41cb-93e0-687636552077",
   "metadata": {},
   "source": [
    "Check the executable file location"
   ]
  },
  {
   "cell_type": "code",
   "execution_count": null,
   "id": "7be59221-889c-42fb-8c24-12a8ef9b4864",
   "metadata": {},
   "outputs": [],
   "source": [
    "cabal list-bin marlowe-cli"
   ]
  },
  {
   "cell_type": "markdown",
   "id": "8ef78067-7f1d-4f6c-9357-105bcfae76a7",
   "metadata": {},
   "source": [
    "Get out of nix virtual development environment"
   ]
  },
  {
   "cell_type": "code",
   "execution_count": null,
   "id": "de3ff5d1-c879-468c-8ad3-2abbcf1b1596",
   "metadata": {},
   "outputs": [],
   "source": [
    "exit"
   ]
  },
  {
   "cell_type": "markdown",
   "id": "01eebdd6-a1b8-47a6-8977-169b06653489",
   "metadata": {},
   "source": [
    "Copy the rebuilt version of marlowe-cli to the folder you want"
   ]
  },
  {
   "cell_type": "code",
   "execution_count": null,
   "id": "c890b30b-b0af-4a1e-a4a3-1edb8fc071bb",
   "metadata": {},
   "outputs": [],
   "source": [
    "sudo cp /home/ubuntu/marlowe-cardano/dist-newstyle/build/x86_64-linux/ghc-9.2.8/marlowe-cli-0.2.0.0/x/marlowe-cli/build/marlowe-cli/marlowe-cli ~/.local/bin/marlowe-cli"
   ]
  },
  {
   "cell_type": "markdown",
   "id": "55cd6125-7104-4bd0-8599-fa5cb814f26a",
   "metadata": {},
   "source": [
    "Test xem marlowe-cli đã đọc được dữ liệu từ node hay chưa. \n",
    "_Lưu ý là cần bật cardano node trước khi chạy câu lệnh này_"
   ]
  },
  {
   "cell_type": "code",
   "execution_count": null,
   "id": "265af5d2-5b10-45cb-9699-6788e95b2777",
   "metadata": {},
   "outputs": [],
   "source": [
    "marlowe-cli --conway-era util slotting"
   ]
  }
 ],
 "metadata": {
  "kernelspec": {
   "display_name": "Bash",
   "language": "bash",
   "name": "bash"
  },
  "language_info": {
   "codemirror_mode": "shell",
   "file_extension": ".sh",
   "mimetype": "text/x-sh",
   "name": "bash"
  }
 },
 "nbformat": 4,
 "nbformat_minor": 5
}
